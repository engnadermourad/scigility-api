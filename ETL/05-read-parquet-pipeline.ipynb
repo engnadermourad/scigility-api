{
 "cells": [
  {
   "cell_type": "code",
   "execution_count": 1,
   "id": "ccc3117f-ff58-4941-9105-de9232b5a327",
   "metadata": {},
   "outputs": [
    {
     "name": "stderr",
     "output_type": "stream",
     "text": [
      "25/08/01 20:48:12 WARN NativeCodeLoader: Unable to load native-hadoop library for your platform... using builtin-java classes where applicable\n",
      "Setting default log level to \"WARN\".\n",
      "To adjust logging level use sc.setLogLevel(newLevel). For SparkR, use setLogLevel(newLevel).\n"
     ]
    },
    {
     "name": "stdout",
     "output_type": "stream",
     "text": [
      "[INFO] Spark session started: MultiParquetPipeline\n",
      "[INFO] Reading Parquet data from: s3a://nmourmx-scigility/Silver/account_parquet/\n"
     ]
    },
    {
     "name": "stderr",
     "output_type": "stream",
     "text": [
      "25/08/01 20:48:23 WARN MetricsConfig: Cannot locate configuration: tried hadoop-metrics2-s3a-file-system.properties,hadoop-metrics2.properties\n",
      "                                                                                \r"
     ]
    },
    {
     "name": "stdout",
     "output_type": "stream",
     "text": [
      "\n",
      "--- Dataset: account ---\n"
     ]
    },
    {
     "name": "stderr",
     "output_type": "stream",
     "text": [
      "                                                                                \r"
     ]
    },
    {
     "name": "stdout",
     "output_type": "stream",
     "text": [
      "+----------+-----------+----------------+----------+\n",
      "|account_id|district_id|       frequency|      date|\n",
      "+----------+-----------+----------------+----------+\n",
      "|         1|         18|POPLATEK MESICNE|1995-03-24|\n",
      "|         2|          1|POPLATEK MESICNE|1993-02-26|\n",
      "|         3|          5|POPLATEK MESICNE|1997-07-07|\n",
      "|         4|         12|POPLATEK MESICNE|1996-02-21|\n",
      "|         5|         15|POPLATEK MESICNE|1997-05-30|\n",
      "+----------+-----------+----------------+----------+\n",
      "only showing top 5 rows\n",
      "\n",
      "[INFO] Total rows in account: 4500\n",
      "[INFO] Reading Parquet data from: s3a://nmourmx-scigility/Silver/card_parquet/\n"
     ]
    },
    {
     "name": "stderr",
     "output_type": "stream",
     "text": [
      "                                                                                \r"
     ]
    },
    {
     "name": "stdout",
     "output_type": "stream",
     "text": [
      "\n",
      "--- Dataset: card ---\n",
      "+-------+-------+-------+----------+\n",
      "|card_id|disp_id|   type|    issued|\n",
      "+-------+-------+-------+----------+\n",
      "|      1|      9|   gold|1998-10-16|\n",
      "|      2|     19|classic|1998-03-13|\n",
      "|      3|     41|   gold|1995-09-03|\n",
      "|      4|     42|classic|1998-11-26|\n",
      "|      5|     51| junior|1995-04-24|\n",
      "+-------+-------+-------+----------+\n",
      "only showing top 5 rows\n",
      "\n",
      "[INFO] Total rows in card: 892\n",
      "[INFO] Reading Parquet data from: s3a://nmourmx-scigility/Silver/client_parquet/\n"
     ]
    },
    {
     "name": "stderr",
     "output_type": "stream",
     "text": [
      "                                                                                \r"
     ]
    },
    {
     "name": "stdout",
     "output_type": "stream",
     "text": [
      "\n",
      "--- Dataset: client ---\n"
     ]
    },
    {
     "name": "stderr",
     "output_type": "stream",
     "text": [
      "                                                                                \r"
     ]
    },
    {
     "name": "stdout",
     "output_type": "stream",
     "text": [
      "+---------+------+----------+-----------+\n",
      "|client_id|gender|birth_date|district_id|\n",
      "+---------+------+----------+-----------+\n",
      "|        1|     F|1970-12-13|         18|\n",
      "|        2|     M|1945-02-04|          1|\n",
      "|        3|     F|1940-10-09|          1|\n",
      "|        4|     M|1956-12-01|          5|\n",
      "|        5|     F|1960-07-03|          5|\n",
      "+---------+------+----------+-----------+\n",
      "only showing top 5 rows\n",
      "\n",
      "[INFO] Total rows in client: 5369\n",
      "[INFO] Reading Parquet data from: s3a://nmourmx-scigility/Silver/disp_parquet/\n",
      "\n",
      "--- Dataset: disp ---\n"
     ]
    },
    {
     "name": "stderr",
     "output_type": "stream",
     "text": [
      "                                                                                \r"
     ]
    },
    {
     "name": "stdout",
     "output_type": "stream",
     "text": [
      "+-------+---------+----------+---------+\n",
      "|disp_id|client_id|account_id|     type|\n",
      "+-------+---------+----------+---------+\n",
      "|      1|        1|         1|    OWNER|\n",
      "|      2|        2|         2|    OWNER|\n",
      "|      3|        3|         2|DISPONENT|\n",
      "|      4|        4|         3|    OWNER|\n",
      "|      5|        5|         3|DISPONENT|\n",
      "+-------+---------+----------+---------+\n",
      "only showing top 5 rows\n",
      "\n",
      "[INFO] Total rows in disp: 5369\n",
      "[INFO] Reading Parquet data from: s3a://nmourmx-scigility/Silver/district_parquet/\n",
      "\n",
      "--- Dataset: district ---\n",
      "+-----------+-------------+---------------+----------+---+---+---+---+---+----+-----+----+----+-----+-----+-----+----+----+----+\n",
      "|district_id|district_name|         region|population| A2| A3| A4| A5| A6|  A7|   A8|  A9| A10|  A11|  A12|  A13| A14| A15| A16|\n",
      "+-----------+-------------+---------------+----------+---+---+---+---+---+----+-----+----+----+-----+-----+-----+----+----+----+\n",
      "|          1|  Hl.m. Praha|         Prague|   1204953|  0|  0|  0|  1|  1|NULL|12541|NULL|0.43|167.0|85677|99107|NULL|NULL|NULL|\n",
      "|          2|      Benesov|central Bohemia|     88884| 80| 26|  6|  2|  5|NULL| 8507|NULL|1.85|132.0| 2159| 2674|NULL|NULL|NULL|\n",
      "|          3|       Beroun|central Bohemia|     75232| 55| 26|  4|  1|  5|NULL| 8980|NULL|2.21|111.0| 2824| 2813|NULL|NULL|NULL|\n",
      "|          4|       Kladno|central Bohemia|    149893| 63| 29|  6|  2|  6|NULL| 9753|NULL|5.05|109.0| 5244| 5892|NULL|NULL|NULL|\n",
      "|          5|        Kolin|central Bohemia|     95616| 65| 30|  4|  1|  6|NULL| 9307|NULL|4.43|118.0| 2616| 3040|NULL|NULL|NULL|\n",
      "+-----------+-------------+---------------+----------+---+---+---+---+---+----+-----+----+----+-----+-----+-----+----+----+----+\n",
      "only showing top 5 rows\n",
      "\n",
      "[INFO] Total rows in district: 77\n",
      "[INFO] Reading Parquet data from: s3a://nmourmx-scigility/Silver/loan_parquet/\n",
      "\n",
      "--- Dataset: loan ---\n",
      "+-------+----------+----------+------+--------+--------+------+\n",
      "|loan_id|account_id|      date|amount|duration|payments|status|\n",
      "+-------+----------+----------+------+--------+--------+------+\n",
      "|   4959|         2|1994-01-05| 80952|      24|  3373.0|     A|\n",
      "|   4961|        19|1996-04-29| 30276|      12|  2523.0|     B|\n",
      "|   4962|        25|1997-12-08| 30276|      12|  2523.0|     A|\n",
      "|   4967|        37|1998-10-14|318480|      60|  5308.0|     D|\n",
      "|   4968|        38|1998-04-19|110736|      48|  2307.0|     C|\n",
      "+-------+----------+----------+------+--------+--------+------+\n",
      "only showing top 5 rows\n",
      "\n",
      "[INFO] Total rows in loan: 682\n",
      "[INFO] Reading Parquet data from: s3a://nmourmx-scigility/Silver/order_parquet/\n",
      "\n",
      "--- Dataset: order ---\n",
      "+--------+----------+-------+----------+------+--------+\n",
      "|order_id|account_id|bank_to|account_to|amount|k_symbol|\n",
      "+--------+----------+-------+----------+------+--------+\n",
      "|   29401|         1|     YZ|  87144583|2452.0|    SIPO|\n",
      "|   29402|         2|     ST|  89597016|3372.7|    UVER|\n",
      "|   29403|         2|     QR|  13943797|7266.0|    SIPO|\n",
      "|   29404|         3|     WX|  83084338|1135.0|    SIPO|\n",
      "|   29405|         3|     CD|  24485939| 327.0|    NULL|\n",
      "+--------+----------+-------+----------+------+--------+\n",
      "only showing top 5 rows\n",
      "\n",
      "[INFO] Total rows in order: 6471\n",
      "[INFO] Reading Parquet data from: s3a://nmourmx-scigility/Silver/trans_fixed_parquet/\n",
      "\n",
      "--- Dataset: trans_fixed ---\n"
     ]
    },
    {
     "name": "stderr",
     "output_type": "stream",
     "text": [
      "                                                                                \r"
     ]
    },
    {
     "name": "stdout",
     "output_type": "stream",
     "text": [
      "+--------+----------+----------+------+---------+------+-------+--------+------+----+-------+\n",
      "|trans_id|account_id|      date|  type|operation|amount|balance|k_symbol|branch|bank|account|\n",
      "+--------+----------+----------+------+---------+------+-------+--------+------+----+-------+\n",
      "|  967842|      1532|1998-05-31|PRIJEM|     NULL| 253.0|62661.0|    UROK|    AR|NULL|      0|\n",
      "|  271012|      1499|1998-01-09|PRIJEM|    VKLAD|5500.0|49790.0|    NULL|    AR|NULL|      0|\n",
      "|  971490|      1645|1996-11-30|PRIJEM|     NULL|  43.0|19460.0|    UROK|    AR|NULL|      0|\n",
      "|  605699|      3366|1996-10-28| VYDAJ|    VYBER|9300.0|38433.0|    NULL|    AR|NULL|      0|\n",
      "|  443107|      2471|1998-07-30| VYDAJ|    VYBER|7800.0|56237.0|    NULL|    AR|NULL|      0|\n",
      "+--------+----------+----------+------+---------+------+-------+--------+------+----+-------+\n",
      "only showing top 5 rows\n",
      "\n"
     ]
    },
    {
     "name": "stderr",
     "output_type": "stream",
     "text": [
      "                                                                                \r"
     ]
    },
    {
     "name": "stdout",
     "output_type": "stream",
     "text": [
      "[INFO] Total rows in trans_fixed: 1056410\n",
      "[INFO] Stopping Spark session\n"
     ]
    }
   ],
   "source": [
    "import os\n",
    "from dotenv import load_dotenv\n",
    "from pyspark.sql import SparkSession, DataFrame\n",
    "from pyspark.sql.functions import max, min\n",
    "\n",
    "class ParquetPipeline:\n",
    "    def __init__(self, app_name: str = \"MultiParquetPipeline\"):\n",
    "        load_dotenv()\n",
    "        aws_access_key_id = os.getenv(\"AWS_ACCESS_KEY_ID\")\n",
    "        aws_secret_access_key = os.getenv(\"AWS_SECRET_ACCESS_KEY\")\n",
    "\n",
    "        self.spark = SparkSession.builder \\\n",
    "            .appName(app_name) \\\n",
    "            .config(\"spark.hadoop.fs.s3a.access.key\", aws_access_key_id) \\\n",
    "            .config(\"spark.hadoop.fs.s3a.secret.key\", aws_secret_access_key) \\\n",
    "            .config(\"spark.hadoop.fs.s3a.endpoint\", \"s3.amazonaws.com\") \\\n",
    "            .config(\"spark.master\", \"spark://spark-master-2:7077\") \\\n",
    "            .config(\"spark.hadoop.fs.s3a.fast.upload\", \"true\") \\\n",
    "            .config(\"spark.sql.shuffle.partitions\", \"62\") \\\n",
    "            .config(\"spark.serializer\", \"org.apache.spark.serializer.KryoSerializer\") \\\n",
    "            .getOrCreate()\n",
    "        print(f\"[INFO] Spark session started: {app_name}\")\n",
    "            # .appName(\"average loan amount per district\") \\\n",
    "    @staticmethod\n",
    "    def extract_name(path: str) -> str:\n",
    "        return path.strip('/').split('/')[-1].replace('_parquet', '')\n",
    "\n",
    "    def read_parquet(self, path: str) -> DataFrame:\n",
    "        print(f\"[INFO] Reading Parquet data from: {path}\")\n",
    "        df = self.spark.read.parquet(path)\n",
    "        return df.cache()\n",
    "\n",
    "    def report(self, df: DataFrame, name: str):\n",
    "        print(f\"\\n--- Dataset: {name} ---\")\n",
    "        df.show(5)\n",
    "        total_rows = df.count()\n",
    "        print(f\"[INFO] Total rows in {name}: {total_rows}\")\n",
    "\n",
    "    def process_all(self, parquet_paths: list):\n",
    "        for path in parquet_paths:\n",
    "            name = self.extract_name(path)\n",
    "            df = self.read_parquet(path)\n",
    "            self.report(df, name)\n",
    "\n",
    "    def stop(self):\n",
    "        print(\"[INFO] Stopping Spark session\")\n",
    "        self.spark.stop()\n",
    "\n",
    "\n",
    "if __name__ == \"__main__\":\n",
    "    parquet_paths = [\n",
    "        \"s3a://nmourmx-scigility/Silver/account_parquet/\",\n",
    "        \"s3a://nmourmx-scigility/Silver/card_parquet/\",\n",
    "        \"s3a://nmourmx-scigility/Silver/client_parquet/\",\n",
    "        \"s3a://nmourmx-scigility/Silver/disp_parquet/\",\n",
    "        \"s3a://nmourmx-scigility/Silver/district_parquet/\",\n",
    "        \"s3a://nmourmx-scigility/Silver/loan_parquet/\",\n",
    "        \"s3a://nmourmx-scigility/Silver/order_parquet/\",\n",
    "        \"s3a://nmourmx-scigility/Silver/trans_fixed_parquet/\"\n",
    "    ]\n",
    "\n",
    "    pipeline = ParquetPipeline()\n",
    "    pipeline.process_all(parquet_paths)\n",
    "    pipeline.stop()\n"
   ]
  },
  {
   "cell_type": "code",
   "execution_count": null,
   "id": "7d5b9fac-fc6e-4371-87dc-1efba121f65c",
   "metadata": {},
   "outputs": [],
   "source": []
  }
 ],
 "metadata": {
  "kernelspec": {
   "display_name": "Python 3 (ipykernel)",
   "language": "python",
   "name": "python3"
  },
  "language_info": {
   "codemirror_mode": {
    "name": "ipython",
    "version": 3
   },
   "file_extension": ".py",
   "mimetype": "text/x-python",
   "name": "python",
   "nbconvert_exporter": "python",
   "pygments_lexer": "ipython3",
   "version": "3.11.9"
  }
 },
 "nbformat": 4,
 "nbformat_minor": 5
}
