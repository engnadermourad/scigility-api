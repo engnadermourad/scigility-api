{
 "cells": [
  {
   "cell_type": "code",
   "execution_count": 1,
   "id": "864ed453-596e-41b2-a1bc-64fad157863d",
   "metadata": {},
   "outputs": [
    {
     "name": "stderr",
     "output_type": "stream",
     "text": [
      "25/07/29 11:36:54 WARN NativeCodeLoader: Unable to load native-hadoop library for your platform... using builtin-java classes where applicable\n",
      "Setting default log level to \"WARN\".\n",
      "To adjust logging level use sc.setLogLevel(newLevel). For SparkR, use setLogLevel(newLevel).\n"
     ]
    },
    {
     "name": "stdout",
     "output_type": "stream",
     "text": [
      "[INFO] Spark session started: CSV to Parquet Pipeline\n",
      "\n",
      "========== Processing CARD ==========\n",
      "[INFO] Reading CSV: s3a://nmourmx-scigility/Bronze/card/card.csv\n"
     ]
    },
    {
     "name": "stderr",
     "output_type": "stream",
     "text": [
      "25/07/29 11:36:58 WARN MetricsConfig: Cannot locate configuration: tried hadoop-metrics2-s3a-file-system.properties,hadoop-metrics2.properties\n"
     ]
    },
    {
     "name": "stdout",
     "output_type": "stream",
     "text": [
      "[INFO] Casting column 'issued' to DateType\n"
     ]
    },
    {
     "name": "stderr",
     "output_type": "stream",
     "text": [
      "25/07/29 11:37:02 WARN CacheManager: Asked to cache already cached data.\n",
      "                                                                                \r"
     ]
    },
    {
     "name": "stdout",
     "output_type": "stream",
     "text": [
      "+-------+-------+-------+----------+\n",
      "|card_id|disp_id|   type|    issued|\n",
      "+-------+-------+-------+----------+\n",
      "|      1|      9|   gold|1998-10-16|\n",
      "|      2|     19|classic|1998-03-13|\n",
      "|      3|     41|   gold|1995-09-03|\n",
      "|      4|     42|classic|1998-11-26|\n",
      "|      5|     51| junior|1995-04-24|\n",
      "|      7|     56|classic|1998-06-11|\n",
      "|      8|     60| junior|1998-05-20|\n",
      "|      9|     76|classic|1997-10-25|\n",
      "|     10|     77|classic|1996-12-07|\n",
      "|     11|     79|   gold|1997-10-25|\n",
      "+-------+-------+-------+----------+\n",
      "only showing top 10 rows\n",
      "\n",
      "[INFO] Saving DataFrame to Parquet: s3a://nmourmx-scigility/Silver/card_parquet/\n"
     ]
    },
    {
     "name": "stderr",
     "output_type": "stream",
     "text": [
      "                                                                                \r"
     ]
    },
    {
     "name": "stdout",
     "output_type": "stream",
     "text": [
      "\n",
      "========== Processing CLIENT ==========\n",
      "[INFO] Reading CSV: s3a://nmourmx-scigility/Bronze/client/client.csv\n",
      "[INFO] Casting column 'birth_date' to DateType\n"
     ]
    },
    {
     "name": "stderr",
     "output_type": "stream",
     "text": [
      "25/07/29 11:37:12 WARN CacheManager: Asked to cache already cached data.\n"
     ]
    },
    {
     "name": "stdout",
     "output_type": "stream",
     "text": [
      "+---------+------+----------+-----------+\n",
      "|client_id|gender|birth_date|district_id|\n",
      "+---------+------+----------+-----------+\n",
      "|        1|     F|1970-12-13|         18|\n",
      "|        2|     M|1945-02-04|          1|\n",
      "|        3|     F|1940-10-09|          1|\n",
      "|        4|     M|1956-12-01|          5|\n",
      "|        5|     F|1960-07-03|          5|\n",
      "|        6|     M|1919-09-22|         12|\n",
      "|        7|     M|1929-01-25|         15|\n",
      "|        8|     F|1938-02-21|         51|\n",
      "|        9|     M|1935-10-16|         60|\n",
      "|       10|     M|1943-05-01|         57|\n",
      "+---------+------+----------+-----------+\n",
      "only showing top 10 rows\n",
      "\n",
      "[INFO] Saving DataFrame to Parquet: s3a://nmourmx-scigility/Silver/client_parquet/\n"
     ]
    },
    {
     "name": "stderr",
     "output_type": "stream",
     "text": [
      "                                                                                \r"
     ]
    },
    {
     "name": "stdout",
     "output_type": "stream",
     "text": [
      "\n",
      "========== Processing DISP ==========\n",
      "[INFO] Reading CSV: s3a://nmourmx-scigility/Bronze/disp/disp.csv\n"
     ]
    },
    {
     "name": "stderr",
     "output_type": "stream",
     "text": [
      "25/07/29 11:37:15 WARN CacheManager: Asked to cache already cached data.\n"
     ]
    },
    {
     "name": "stdout",
     "output_type": "stream",
     "text": [
      "+-------+---------+----------+---------+\n",
      "|disp_id|client_id|account_id|     type|\n",
      "+-------+---------+----------+---------+\n",
      "|      1|        1|         1|    OWNER|\n",
      "|      2|        2|         2|    OWNER|\n",
      "|      3|        3|         2|DISPONENT|\n",
      "|      4|        4|         3|    OWNER|\n",
      "|      5|        5|         3|DISPONENT|\n",
      "|      6|        6|         4|    OWNER|\n",
      "|      7|        7|         5|    OWNER|\n",
      "|      8|        8|         6|    OWNER|\n",
      "|      9|        9|         7|    OWNER|\n",
      "|     10|       10|         8|    OWNER|\n",
      "+-------+---------+----------+---------+\n",
      "only showing top 10 rows\n",
      "\n",
      "[INFO] Saving DataFrame to Parquet: s3a://nmourmx-scigility/Silver/disp_parquet/\n"
     ]
    },
    {
     "name": "stderr",
     "output_type": "stream",
     "text": [
      "                                                                                \r"
     ]
    },
    {
     "name": "stdout",
     "output_type": "stream",
     "text": [
      "\n",
      "========== Processing ACCOUNT ==========\n",
      "[INFO] Reading CSV: s3a://nmourmx-scigility/Bronze/account/account.csv\n",
      "[INFO] Casting column 'date' to DateType\n"
     ]
    },
    {
     "name": "stderr",
     "output_type": "stream",
     "text": [
      "25/07/29 11:37:17 WARN CacheManager: Asked to cache already cached data.\n"
     ]
    },
    {
     "name": "stdout",
     "output_type": "stream",
     "text": [
      "+----------+-----------+----------------+----------+\n",
      "|account_id|district_id|       frequency|      date|\n",
      "+----------+-----------+----------------+----------+\n",
      "|         1|         18|POPLATEK MESICNE|1995-03-24|\n",
      "|         2|          1|POPLATEK MESICNE|1993-02-26|\n",
      "|         3|          5|POPLATEK MESICNE|1997-07-07|\n",
      "|         4|         12|POPLATEK MESICNE|1996-02-21|\n",
      "|         5|         15|POPLATEK MESICNE|1997-05-30|\n",
      "|         6|         51|POPLATEK MESICNE|1994-09-27|\n",
      "|         7|         60|POPLATEK MESICNE|1996-11-24|\n",
      "|         8|         57|POPLATEK MESICNE|1995-09-21|\n",
      "|         9|         70|POPLATEK MESICNE|1993-01-27|\n",
      "|        10|         54|POPLATEK MESICNE|1996-08-28|\n",
      "+----------+-----------+----------------+----------+\n",
      "only showing top 10 rows\n",
      "\n",
      "[INFO] Saving DataFrame to Parquet: s3a://nmourmx-scigility/Silver/account_parquet/\n"
     ]
    },
    {
     "name": "stderr",
     "output_type": "stream",
     "text": [
      "                                                                                \r"
     ]
    },
    {
     "name": "stdout",
     "output_type": "stream",
     "text": [
      "\n",
      "========== Processing DISTRICT ==========\n",
      "[INFO] Reading CSV: s3a://nmourmx-scigility/Bronze/district/district.csv\n"
     ]
    },
    {
     "name": "stderr",
     "output_type": "stream",
     "text": [
      "25/07/29 11:37:20 WARN CacheManager: Asked to cache already cached data.\n"
     ]
    },
    {
     "name": "stdout",
     "output_type": "stream",
     "text": [
      "+-----------+--------------+---------------+----------+---+---+---+---+---+----+-----+----+----+-----+-----+-----+----+----+----+\n",
      "|district_id| district_name|         region|population| A2| A3| A4| A5| A6|  A7|   A8|  A9| A10|  A11|  A12|  A13| A14| A15| A16|\n",
      "+-----------+--------------+---------------+----------+---+---+---+---+---+----+-----+----+----+-----+-----+-----+----+----+----+\n",
      "|          1|   Hl.m. Praha|         Prague|   1204953|  0|  0|  0|  1|  1|NULL|12541|NULL|0.43|167.0|85677|99107|NULL|NULL|NULL|\n",
      "|          2|       Benesov|central Bohemia|     88884| 80| 26|  6|  2|  5|NULL| 8507|NULL|1.85|132.0| 2159| 2674|NULL|NULL|NULL|\n",
      "|          3|        Beroun|central Bohemia|     75232| 55| 26|  4|  1|  5|NULL| 8980|NULL|2.21|111.0| 2824| 2813|NULL|NULL|NULL|\n",
      "|          4|        Kladno|central Bohemia|    149893| 63| 29|  6|  2|  6|NULL| 9753|NULL|5.05|109.0| 5244| 5892|NULL|NULL|NULL|\n",
      "|          5|         Kolin|central Bohemia|     95616| 65| 30|  4|  1|  6|NULL| 9307|NULL|4.43|118.0| 2616| 3040|NULL|NULL|NULL|\n",
      "|          6|    Kutna Hora|central Bohemia|     77963| 60| 23|  4|  2|  4|NULL| 8546|NULL|4.02|126.0| 2640| 3120|NULL|NULL|NULL|\n",
      "|          7|        Melnik|central Bohemia|     94725| 38| 28|  1|  3|  6|NULL| 9920|NULL|2.87|130.0| 4289| 4846|NULL|NULL|NULL|\n",
      "|          8|Mlada Boleslav|central Bohemia|    112065| 95| 19|  7|  1|  8|NULL|11277|NULL|1.44|127.0| 5179| 4987|NULL|NULL|NULL|\n",
      "|          9|       Nymburk|central Bohemia|     81344| 61| 23|  4|  2|  6|NULL| 8899|NULL|3.97|149.0| 2987| 2487|NULL|NULL|NULL|\n",
      "|         10|Praha - vychod|central Bohemia|     92084| 55| 29|  4|  3|  5|NULL|10124|NULL|0.54|141.0| 3810| 4316|NULL|NULL|NULL|\n",
      "+-----------+--------------+---------------+----------+---+---+---+---+---+----+-----+----+----+-----+-----+-----+----+----+----+\n",
      "only showing top 10 rows\n",
      "\n",
      "[INFO] Saving DataFrame to Parquet: s3a://nmourmx-scigility/Silver/district_parquet/\n"
     ]
    },
    {
     "name": "stderr",
     "output_type": "stream",
     "text": [
      "                                                                                \r"
     ]
    },
    {
     "name": "stdout",
     "output_type": "stream",
     "text": [
      "\n",
      "========== Processing LOAN ==========\n",
      "[INFO] Reading CSV: s3a://nmourmx-scigility/Bronze/loan/loan.csv\n",
      "[INFO] Casting column 'date' to DateType\n"
     ]
    },
    {
     "name": "stderr",
     "output_type": "stream",
     "text": [
      "25/07/29 11:37:23 WARN CacheManager: Asked to cache already cached data.\n"
     ]
    },
    {
     "name": "stdout",
     "output_type": "stream",
     "text": [
      "+-------+----------+----------+------+--------+--------+------+\n",
      "|loan_id|account_id|      date|amount|duration|payments|status|\n",
      "+-------+----------+----------+------+--------+--------+------+\n",
      "|   4959|         2|1994-01-05| 80952|      24|  3373.0|     A|\n",
      "|   4961|        19|1996-04-29| 30276|      12|  2523.0|     B|\n",
      "|   4962|        25|1997-12-08| 30276|      12|  2523.0|     A|\n",
      "|   4967|        37|1998-10-14|318480|      60|  5308.0|     D|\n",
      "|   4968|        38|1998-04-19|110736|      48|  2307.0|     C|\n",
      "|   4973|        67|1996-05-02|165960|      24|  6915.0|     A|\n",
      "|   4986|        97|1997-08-10|102876|      12|  8573.0|     A|\n",
      "|   4988|       103|1997-12-06|265320|      36|  7370.0|     D|\n",
      "|   4989|       105|1998-12-05|352704|      48|  7348.0|     C|\n",
      "|   4990|       110|1997-09-08|162576|      36|  4516.0|     C|\n",
      "+-------+----------+----------+------+--------+--------+------+\n",
      "only showing top 10 rows\n",
      "\n",
      "[INFO] Saving DataFrame to Parquet: s3a://nmourmx-scigility/Silver/loan_parquet/\n"
     ]
    },
    {
     "name": "stderr",
     "output_type": "stream",
     "text": [
      "                                                                                \r"
     ]
    },
    {
     "name": "stdout",
     "output_type": "stream",
     "text": [
      "\n",
      "========== Processing ORDER ==========\n",
      "[INFO] Reading CSV: s3a://nmourmx-scigility/Bronze/order/order.csv\n"
     ]
    },
    {
     "name": "stderr",
     "output_type": "stream",
     "text": [
      "25/07/29 11:37:25 WARN CacheManager: Asked to cache already cached data.\n"
     ]
    },
    {
     "name": "stdout",
     "output_type": "stream",
     "text": [
      "+--------+----------+-------+----------+------+--------+\n",
      "|order_id|account_id|bank_to|account_to|amount|k_symbol|\n",
      "+--------+----------+-------+----------+------+--------+\n",
      "|   29401|         1|     YZ|  87144583|2452.0|    SIPO|\n",
      "|   29402|         2|     ST|  89597016|3372.7|    UVER|\n",
      "|   29403|         2|     QR|  13943797|7266.0|    SIPO|\n",
      "|   29404|         3|     WX|  83084338|1135.0|    SIPO|\n",
      "|   29405|         3|     CD|  24485939| 327.0|    NULL|\n",
      "|   29406|         3|     AB|  59972357|3539.0|POJISTNE|\n",
      "|   29407|         4|     UV|  26693541|2078.0|    SIPO|\n",
      "|   29408|         4|     UV|   5848086|1285.0|    SIPO|\n",
      "|   29409|         5|     GH|  37390208|2668.0|    SIPO|\n",
      "|   29410|         6|     AB|  44486999|3954.0|    SIPO|\n",
      "+--------+----------+-------+----------+------+--------+\n",
      "only showing top 10 rows\n",
      "\n",
      "[INFO] Saving DataFrame to Parquet: s3a://nmourmx-scigility/Silver/order_parquet/\n"
     ]
    },
    {
     "name": "stderr",
     "output_type": "stream",
     "text": [
      "                                                                                \r"
     ]
    },
    {
     "name": "stdout",
     "output_type": "stream",
     "text": [
      "\n",
      "========== Processing TRANS ==========\n",
      "[INFO] Reading CSV: s3a://nmourmx-scigility/Bronze/trans/trans.csv\n",
      "[INFO] Casting column 'date' to DateType\n",
      "[INFO] Fixing typo in 'type' column for trans dataset\n"
     ]
    },
    {
     "name": "stderr",
     "output_type": "stream",
     "text": [
      "25/07/29 11:37:31 WARN CacheManager: Asked to cache already cached data.        \n"
     ]
    },
    {
     "name": "stdout",
     "output_type": "stream",
     "text": [
      "+------+\n",
      "|  type|\n",
      "+------+\n",
      "| VYDAJ|\n",
      "|PRIJEM|\n",
      "| VYBER|\n",
      "+------+\n",
      "\n"
     ]
    },
    {
     "name": "stderr",
     "output_type": "stream",
     "text": [
      "                                                                                \r"
     ]
    },
    {
     "name": "stdout",
     "output_type": "stream",
     "text": [
      "+--------+----------+----------+------+--------------+-------+-------+--------+------+----+--------+\n",
      "|trans_id|account_id|      date|  type|     operation| amount|balance|k_symbol|branch|bank| account|\n",
      "+--------+----------+----------+------+--------------+-------+-------+--------+------+----+--------+\n",
      "|  967842|      1532|1998-05-31|PRIJEM|          NULL|  253.0|62661.0|    UROK|    AR|NULL|       0|\n",
      "|  271012|      1499|1998-01-09|PRIJEM|         VKLAD| 5500.0|49790.0|    NULL|    AR|NULL|       0|\n",
      "|  971490|      1645|1996-11-30|PRIJEM|          NULL|   43.0|19460.0|    UROK|    AR|NULL|       0|\n",
      "|  605699|      3366|1996-10-28| VYDAJ|         VYBER| 9300.0|38433.0|    NULL|    AR|NULL|       0|\n",
      "|  443107|      2471|1998-07-30| VYDAJ|         VYBER| 7800.0|56237.0|    NULL|    AR|NULL|       0|\n",
      "|  627433|      3503|1995-06-07| VYDAJ|         VYBER|28640.0|41949.0|    NULL|    AR|NULL|       0|\n",
      "|  390740|      2162|1997-12-03|PRIJEM|         VKLAD|11111.0|38640.0|    NULL|    AR|NULL|       0|\n",
      "|  516014|      2861|1997-01-13| VYDAJ|PREVOD NA UCET| 2613.0|25692.0|    SIPO|    AR|  GH|70139986|\n",
      "|  321504|      1782|1994-04-30| VYDAJ|         VYBER|  960.0|25793.0|    NULL|    AR|NULL|       0|\n",
      "|  329984|      1823|1997-02-05|PRIJEM| PREVOD Z UCTU| 4941.0|25705.0|  DUCHOD|    AR|  CD|91663467|\n",
      "+--------+----------+----------+------+--------------+-------+-------+--------+------+----+--------+\n",
      "only showing top 10 rows\n",
      "\n",
      "[INFO] Saving DataFrame to Parquet: s3a://nmourmx-scigility/Silver/trans_fixed_parquet/\n"
     ]
    },
    {
     "name": "stderr",
     "output_type": "stream",
     "text": [
      "                                                                                \r"
     ]
    },
    {
     "name": "stdout",
     "output_type": "stream",
     "text": [
      "[INFO] Stopping Spark session\n"
     ]
    }
   ],
   "source": [
    "import os\n",
    "from dotenv import load_dotenv\n",
    "from pyspark.sql import SparkSession, DataFrame\n",
    "from pyspark.sql.types import (\n",
    "    StructType, StructField,\n",
    "    IntegerType, StringType, FloatType\n",
    ")\n",
    "from pyspark.sql.functions import col, when\n",
    "from pyspark.storagelevel import StorageLevel\n",
    "from typing import Dict\n",
    "\n",
    "\n",
    "class SparkCSVToParquet:\n",
    "    def __init__(self, app_name: str):\n",
    "        load_dotenv()\n",
    "        self.spark = self._create_spark_session(app_name)\n",
    "        print(f\"[INFO] Spark session started: {app_name}\")\n",
    "\n",
    "    def _create_spark_session(self, app_name: str) -> SparkSession:\n",
    "        aws_access_key = os.getenv(\"AWS_ACCESS_KEY_ID\")\n",
    "        aws_secret_key = os.getenv(\"AWS_SECRET_ACCESS_KEY\")\n",
    "\n",
    "        return SparkSession.builder \\\n",
    "            .appName(app_name) \\\n",
    "            .config(\"spark.hadoop.fs.s3a.access.key\", aws_access_key) \\\n",
    "            .config(\"spark.hadoop.fs.s3a.secret.key\", aws_secret_key) \\\n",
    "            .config(\"spark.hadoop.fs.s3a.endpoint\", \"s3.amazonaws.com\") \\\n",
    "            .getOrCreate()\n",
    "\n",
    "    def read_csv(self, path: str, schema: StructType, delimiter: str = \";\") -> DataFrame:\n",
    "        print(f\"[INFO] Reading CSV: {path}\")\n",
    "        return self.spark.read \\\n",
    "            .option(\"header\", True) \\\n",
    "            .option(\"delimiter\", delimiter) \\\n",
    "            .schema(schema) \\\n",
    "            .csv(path)\n",
    "\n",
    "    def transform_column_to_date(self, df: DataFrame, column_name: str) -> DataFrame:\n",
    "        print(f\"[INFO] Casting column '{column_name}' to DateType\")\n",
    "        return df.withColumn(column_name, col(column_name).cast(\"date\"))\n",
    "\n",
    "    def cache_and_persist(self, df: DataFrame) -> DataFrame:\n",
    "        return df.cache().persist(StorageLevel.MEMORY_AND_DISK)\n",
    "\n",
    "    def save_as_parquet(self, df: DataFrame, path: str, mode: str = \"overwrite\"):\n",
    "        print(f\"[INFO] Saving DataFrame to Parquet: {path}\")\n",
    "        df.write.mode(mode).parquet(path)\n",
    "\n",
    "    def stop(self):\n",
    "        print(\"[INFO] Stopping Spark session\")\n",
    "        self.spark.stop()\n",
    "\n",
    "\n",
    "if __name__ == \"__main__\":\n",
    "    processor = SparkCSVToParquet(\"CSV to Parquet Pipeline\")\n",
    "\n",
    "    schemas: Dict[str, StructType] = {\n",
    "        \"card\": StructType([\n",
    "            StructField(\"card_id\", IntegerType(), True),\n",
    "            StructField(\"disp_id\", IntegerType(), True),\n",
    "            StructField(\"type\", StringType(), True),\n",
    "            StructField(\"issued\", StringType(), True),\n",
    "        ]),\n",
    "        \"client\": StructType([\n",
    "            StructField(\"client_id\", IntegerType(), True),\n",
    "            StructField(\"gender\", StringType(), True),\n",
    "            StructField(\"birth_date\", StringType(), True),\n",
    "            StructField(\"district_id\", IntegerType(), True),\n",
    "        ]),\n",
    "        \"disp\": StructType([\n",
    "            StructField(\"disp_id\", IntegerType(), True),\n",
    "            StructField(\"client_id\", IntegerType(), True),\n",
    "            StructField(\"account_id\", IntegerType(), True),\n",
    "            StructField(\"type\", StringType(), True),\n",
    "        ]),\n",
    "        \"account\": StructType([\n",
    "            StructField(\"account_id\", IntegerType(), True),\n",
    "            StructField(\"district_id\", IntegerType(), True),\n",
    "            StructField(\"frequency\", StringType(), True),\n",
    "            StructField(\"date\", StringType(), True),\n",
    "        ]),\n",
    "        \"district\": StructType([\n",
    "            StructField(\"district_id\", IntegerType(), True),\n",
    "            StructField(\"district_name\", StringType(), True),\n",
    "            StructField(\"region\", StringType(), True),\n",
    "            StructField(\"population\", IntegerType(), True),\n",
    "            StructField(\"A2\", IntegerType(), True),\n",
    "            StructField(\"A3\", IntegerType(), True),\n",
    "            StructField(\"A4\", IntegerType(), True),\n",
    "            StructField(\"A5\", IntegerType(), True),\n",
    "            StructField(\"A6\", IntegerType(), True),\n",
    "            StructField(\"A7\", IntegerType(), True),\n",
    "            StructField(\"A8\", IntegerType(), True),\n",
    "            StructField(\"A9\", IntegerType(), True),\n",
    "            StructField(\"A10\", FloatType(), True),\n",
    "            StructField(\"A11\", FloatType(), True),\n",
    "            StructField(\"A12\", IntegerType(), True),\n",
    "            StructField(\"A13\", IntegerType(), True),\n",
    "            StructField(\"A14\", IntegerType(), True),\n",
    "            StructField(\"A15\", IntegerType(), True),\n",
    "            StructField(\"A16\", IntegerType(), True),\n",
    "        ]),\n",
    "        \"loan\": StructType([\n",
    "            StructField(\"loan_id\", IntegerType(), True),\n",
    "            StructField(\"account_id\", IntegerType(), True),\n",
    "            StructField(\"date\", StringType(), True),\n",
    "            StructField(\"amount\", IntegerType(), True),\n",
    "            StructField(\"duration\", IntegerType(), True),\n",
    "            StructField(\"payments\", FloatType(), True),\n",
    "            StructField(\"status\", StringType(), True)\n",
    "        ]),\n",
    "        \"order\": StructType([\n",
    "            StructField(\"order_id\", IntegerType(), True),\n",
    "            StructField(\"account_id\", IntegerType(), True),\n",
    "            StructField(\"bank_to\", StringType(), True),\n",
    "            StructField(\"account_to\", IntegerType(), True),\n",
    "            StructField(\"amount\", FloatType(), True),\n",
    "            StructField(\"k_symbol\", StringType(), True)\n",
    "        ]),\n",
    "        # Add schema for trans\n",
    "        \"trans\": StructType([\n",
    "            StructField(\"trans_id\", IntegerType(), True),\n",
    "            StructField(\"account_id\", IntegerType(), True),\n",
    "            StructField(\"date\", StringType(), True),\n",
    "            StructField(\"type\", StringType(), True),\n",
    "            StructField(\"operation\", StringType(), True),\n",
    "            StructField(\"amount\", FloatType(), True),\n",
    "            StructField(\"balance\", FloatType(), True),\n",
    "            StructField(\"k_symbol\", StringType(), True),\n",
    "            StructField(\"branch\", StringType(), True),\n",
    "            StructField(\"bank\", StringType(), True),\n",
    "            StructField(\"account\", IntegerType(), True)\n",
    "        ])\n",
    "    }\n",
    "\n",
    "    sources = {\n",
    "        \"card\": {\n",
    "            \"path\": \"s3a://nmourmx-scigility/Bronze/card/card.csv\",\n",
    "            \"date_col\": \"issued\",\n",
    "            \"output\": \"s3a://nmourmx-scigility/Silver/card_parquet/\",\n",
    "        },\n",
    "        \"client\": {\n",
    "            \"path\": \"s3a://nmourmx-scigility/Bronze/client/client.csv\",\n",
    "            \"date_col\": \"birth_date\",\n",
    "            \"output\": \"s3a://nmourmx-scigility/Silver/client_parquet/\",\n",
    "        },\n",
    "        \"disp\": {\n",
    "            \"path\": \"s3a://nmourmx-scigility/Bronze/disp/disp.csv\",\n",
    "            \"date_col\": None,\n",
    "            \"output\": \"s3a://nmourmx-scigility/Silver/disp_parquet/\",\n",
    "        },\n",
    "        \"account\": {\n",
    "            \"path\": \"s3a://nmourmx-scigility/Bronze/account/account.csv\",\n",
    "            \"date_col\": \"date\",\n",
    "            \"output\": \"s3a://nmourmx-scigility/Silver/account_parquet/\",\n",
    "        },\n",
    "        \"district\": {\n",
    "            \"path\": \"s3a://nmourmx-scigility/Bronze/district/district.csv\",\n",
    "            \"date_col\": None,\n",
    "            \"output\": \"s3a://nmourmx-scigility/Silver/district_parquet/\",\n",
    "        },\n",
    "        \"loan\": {\n",
    "            \"path\": \"s3a://nmourmx-scigility/Bronze/loan/loan.csv\",\n",
    "            \"date_col\": \"date\",\n",
    "            \"output\": \"s3a://nmourmx-scigility/Silver/loan_parquet/\",\n",
    "        },\n",
    "        \"order\": {\n",
    "            \"path\": \"s3a://nmourmx-scigility/Bronze/order/order.csv\",\n",
    "            \"date_col\": None,\n",
    "            \"output\": \"s3a://nmourmx-scigility/Silver/order_parquet/\",\n",
    "        },\n",
    "        # Add trans source\n",
    "        \"trans\": {\n",
    "            \"path\": \"s3a://nmourmx-scigility/Bronze/trans/trans.csv\",\n",
    "            \"date_col\": \"date\",\n",
    "            \"output\": \"s3a://nmourmx-scigility/Silver/trans_fixed_parquet/\",\n",
    "        }\n",
    "    }\n",
    "\n",
    "    for name, config in sources.items():\n",
    "        print(f\"\\n========== Processing {name.upper()} ==========\")\n",
    "        df = processor.read_csv(config[\"path\"], schemas[name])\n",
    "        if config[\"date_col\"]:\n",
    "            df = processor.transform_column_to_date(df, config[\"date_col\"])\n",
    "\n",
    "        # Special fix for trans type typo\n",
    "        if name == \"trans\":\n",
    "            from pyspark.sql.functions import when\n",
    "            print(\"[INFO] Fixing typo in 'type' column for trans dataset\")\n",
    "            df = df.withColumn(\"type\", when(col(\"type\") == \"PRJIEM\", \"PRIJEM\").otherwise(col(\"type\")))\n",
    "            # Select distinct values from the 'type' column\n",
    "            distinct_types = df.select(\"type\").distinct()      \n",
    "            # Show the distinct values\n",
    "            distinct_types.show()\n",
    "\n",
    "        df = processor.cache_and_persist(df)\n",
    "        df.show(10)\n",
    "        processor.save_as_parquet(df, config[\"output\"])\n",
    "\n",
    "    processor.stop()\n"
   ]
  },
  {
   "cell_type": "code",
   "execution_count": null,
   "id": "0c804a29-deea-42c1-9969-b82d7ff457e6",
   "metadata": {},
   "outputs": [],
   "source": []
  }
 ],
 "metadata": {
  "kernelspec": {
   "display_name": "Python 3 (ipykernel)",
   "language": "python",
   "name": "python3"
  },
  "language_info": {
   "codemirror_mode": {
    "name": "ipython",
    "version": 3
   },
   "file_extension": ".py",
   "mimetype": "text/x-python",
   "name": "python",
   "nbconvert_exporter": "python",
   "pygments_lexer": "ipython3",
   "version": "3.11.9"
  }
 },
 "nbformat": 4,
 "nbformat_minor": 5
}
